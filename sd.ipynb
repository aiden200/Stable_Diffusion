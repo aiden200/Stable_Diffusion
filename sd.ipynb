{
 "cells": [
  {
   "cell_type": "code",
   "execution_count": 8,
   "metadata": {},
   "outputs": [
    {
     "name": "stdout",
     "output_type": "stream",
     "text": [
      "Using device cuda\n"
     ]
    }
   ],
   "source": [
    "from models.stable_diffusion import model_loader, pipeline\n",
    "from PIL import Image\n",
    "from transformers import CLIPTokenizer\n",
    "import torch\n",
    "\n",
    "DEVICE = \"cpu\"\n",
    "ALLOW_CUDA = True\n",
    "ALLOW_MPS = False\n",
    "\n",
    "if torch.cuda.is_available() and ALLOW_CUDA:\n",
    "    DEVICE = \"cuda\"\n",
    "elif (torch.has_mps or torch.backend.mps.is_available()) and ALLOW_MPS:\n",
    "    DEVICE = \"mps\"\n",
    "\n",
    "print(f\"Using device {DEVICE}\")\n",
    "\n",
    "\n"
   ]
  },
  {
   "cell_type": "code",
   "execution_count": 10,
   "metadata": {},
   "outputs": [],
   "source": [
    "tokenizer = CLIPTokenizer(\"tokenizer/tokenizer_vocab.json\", merges_file=\"tokenizer/tokenizer_merges.txt\")\n",
    "model_filepath = \"pretrained/v1-5-pruned-emaonly.ckpt\"\n"
   ]
  },
  {
   "cell_type": "code",
   "execution_count": 11,
   "metadata": {},
   "outputs": [
    {
     "ename": "AttributeError",
     "evalue": "'super' object has no attribute '_VAE_ResidualBlock__init'",
     "output_type": "error",
     "traceback": [
      "\u001b[0;31m---------------------------------------------------------------------------\u001b[0m",
      "\u001b[0;31mAttributeError\u001b[0m                            Traceback (most recent call last)",
      "Cell \u001b[0;32mIn[11], line 1\u001b[0m\n\u001b[0;32m----> 1\u001b[0m models \u001b[38;5;241m=\u001b[39m \u001b[43mmodel_loader\u001b[49m\u001b[38;5;241;43m.\u001b[39;49m\u001b[43mpreload_models_from_weights\u001b[49m\u001b[43m(\u001b[49m\u001b[43mmodel_filepath\u001b[49m\u001b[43m,\u001b[49m\u001b[43m \u001b[49m\u001b[43mDEVICE\u001b[49m\u001b[43m)\u001b[49m\n",
      "File \u001b[0;32m~/Documents/cs/Stable_Diffusion/models/stable_diffusion/model_loader.py:11\u001b[0m, in \u001b[0;36mpreload_models_from_weights\u001b[0;34m(path, device)\u001b[0m\n\u001b[1;32m      7\u001b[0m \u001b[38;5;28;01mdef\u001b[39;00m \u001b[38;5;21mpreload_models_from_weights\u001b[39m(path, device):\n\u001b[1;32m      8\u001b[0m     \u001b[38;5;66;03m# Need to convert the names of the model to the pretrained names\u001b[39;00m\n\u001b[1;32m      9\u001b[0m     state_dict \u001b[38;5;241m=\u001b[39m model_converter\u001b[38;5;241m.\u001b[39mload_from_standard_weights(path, device)\n\u001b[0;32m---> 11\u001b[0m     encoder \u001b[38;5;241m=\u001b[39m \u001b[43mVAE_encoder\u001b[49m\u001b[43m(\u001b[49m\u001b[43m)\u001b[49m\u001b[38;5;241m.\u001b[39mto(device)\n\u001b[1;32m     12\u001b[0m     encoder\u001b[38;5;241m.\u001b[39mload_state_dict(state_dict[\u001b[38;5;124m\"\u001b[39m\u001b[38;5;124mencoder\u001b[39m\u001b[38;5;124m\"\u001b[39m], strict\u001b[38;5;241m=\u001b[39m\u001b[38;5;28;01mTrue\u001b[39;00m)\n\u001b[1;32m     14\u001b[0m     decoder \u001b[38;5;241m=\u001b[39m VAE_Decoder()\u001b[38;5;241m.\u001b[39mto(device)\n",
      "File \u001b[0;32m~/Documents/cs/Stable_Diffusion/models/vae/encoder.py:12\u001b[0m, in \u001b[0;36mVAE_encoder.__init__\u001b[0;34m(self)\u001b[0m\n\u001b[1;32m      7\u001b[0m \u001b[38;5;28;01mdef\u001b[39;00m \u001b[38;5;21m__init__\u001b[39m(\u001b[38;5;28mself\u001b[39m):\n\u001b[1;32m      8\u001b[0m     \u001b[38;5;28msuper\u001b[39m()\u001b[38;5;241m.\u001b[39m\u001b[38;5;21m__init__\u001b[39m(\n\u001b[1;32m      9\u001b[0m         \u001b[38;5;66;03m#(B, C, H, W) -> (B, 128, H, W)\u001b[39;00m\n\u001b[1;32m     10\u001b[0m         nn\u001b[38;5;241m.\u001b[39mConv2d(\u001b[38;5;241m3\u001b[39m, \u001b[38;5;241m128\u001b[39m, kernel_size\u001b[38;5;241m=\u001b[39m\u001b[38;5;241m3\u001b[39m, padding\u001b[38;5;241m=\u001b[39m\u001b[38;5;241m1\u001b[39m),\n\u001b[1;32m     11\u001b[0m         \u001b[38;5;66;03m#(B, 128, H, W) -> (B, 128, H, W)\u001b[39;00m\n\u001b[0;32m---> 12\u001b[0m         \u001b[43mVAE_ResidualBlock\u001b[49m\u001b[43m(\u001b[49m\u001b[38;5;241;43m128\u001b[39;49m\u001b[43m,\u001b[49m\u001b[43m \u001b[49m\u001b[38;5;241;43m128\u001b[39;49m\u001b[43m)\u001b[49m,\n\u001b[1;32m     13\u001b[0m         \u001b[38;5;66;03m#(B, 128, H, W) -> (B, 128, H, W)\u001b[39;00m\n\u001b[1;32m     14\u001b[0m         VAE_ResidualBlock(\u001b[38;5;241m128\u001b[39m, \u001b[38;5;241m128\u001b[39m),\n\u001b[1;32m     15\u001b[0m \n\u001b[1;32m     16\u001b[0m         \u001b[38;5;66;03m#(B, 128, H, W) -> (B, 256, H/2, W/2)\u001b[39;00m\n\u001b[1;32m     17\u001b[0m         nn\u001b[38;5;241m.\u001b[39mConv2d(\u001b[38;5;241m128\u001b[39m, \u001b[38;5;241m128\u001b[39m, kernel_size\u001b[38;5;241m=\u001b[39m\u001b[38;5;241m3\u001b[39m, stride\u001b[38;5;241m=\u001b[39m\u001b[38;5;241m2\u001b[39m, padding\u001b[38;5;241m=\u001b[39m\u001b[38;5;241m0\u001b[39m),\n\u001b[1;32m     18\u001b[0m         \u001b[38;5;66;03m#(B, 128, H/2, W/2) -> (B, 256, H/2, W/2)\u001b[39;00m\n\u001b[1;32m     19\u001b[0m         VAE_ResidualBlock(\u001b[38;5;241m128\u001b[39m, \u001b[38;5;241m256\u001b[39m),\n\u001b[1;32m     20\u001b[0m         \u001b[38;5;66;03m#(B, 256, H/2, W/2) -> (B, 256, H/2, W/2)\u001b[39;00m\n\u001b[1;32m     21\u001b[0m         VAE_ResidualBlock(\u001b[38;5;241m256\u001b[39m, \u001b[38;5;241m256\u001b[39m),\n\u001b[1;32m     22\u001b[0m \n\u001b[1;32m     23\u001b[0m         \u001b[38;5;66;03m#(B, 256, H/2, W/2) -> (B, 512, H/4, W/4)\u001b[39;00m\n\u001b[1;32m     24\u001b[0m         nn\u001b[38;5;241m.\u001b[39mConv2d(\u001b[38;5;241m256\u001b[39m, \u001b[38;5;241m256\u001b[39m, kernel_size\u001b[38;5;241m=\u001b[39m\u001b[38;5;241m3\u001b[39m, stride\u001b[38;5;241m=\u001b[39m\u001b[38;5;241m2\u001b[39m, padding\u001b[38;5;241m=\u001b[39m\u001b[38;5;241m0\u001b[39m),\n\u001b[1;32m     25\u001b[0m         \u001b[38;5;66;03m#(B, 128, H/4, W/4) -> (B, 256, H/4, W/4)\u001b[39;00m\n\u001b[1;32m     26\u001b[0m         VAE_ResidualBlock(\u001b[38;5;241m256\u001b[39m, \u001b[38;5;241m512\u001b[39m),\n\u001b[1;32m     27\u001b[0m         \u001b[38;5;66;03m#(B, 512, H/4, W/4) -> (B, 512, H/4, W/4)\u001b[39;00m\n\u001b[1;32m     28\u001b[0m         VAE_ResidualBlock(\u001b[38;5;241m512\u001b[39m, \u001b[38;5;241m512\u001b[39m),\n\u001b[1;32m     29\u001b[0m \n\u001b[1;32m     30\u001b[0m         \u001b[38;5;66;03m#(B, 512, H/4, W/4) -> (B, 512, H/8, W/8)\u001b[39;00m\n\u001b[1;32m     31\u001b[0m         nn\u001b[38;5;241m.\u001b[39mConv2d(\u001b[38;5;241m512\u001b[39m, \u001b[38;5;241m512\u001b[39m, kernel_size\u001b[38;5;241m=\u001b[39m\u001b[38;5;241m3\u001b[39m, stride\u001b[38;5;241m=\u001b[39m\u001b[38;5;241m2\u001b[39m, padding\u001b[38;5;241m=\u001b[39m\u001b[38;5;241m0\u001b[39m),\n\u001b[1;32m     32\u001b[0m         VAE_ResidualBlock(\u001b[38;5;241m512\u001b[39m, \u001b[38;5;241m512\u001b[39m),\n\u001b[1;32m     33\u001b[0m         VAE_ResidualBlock(\u001b[38;5;241m512\u001b[39m, \u001b[38;5;241m512\u001b[39m),     \n\u001b[1;32m     34\u001b[0m         \u001b[38;5;66;03m#(B, 128, H/8, W/8) -> (B, 128, H/8, W/8)\u001b[39;00m\n\u001b[1;32m     35\u001b[0m \n\u001b[1;32m     36\u001b[0m         VAE_ResidualBlock(\u001b[38;5;241m512\u001b[39m, \u001b[38;5;241m512\u001b[39m),       \n\u001b[1;32m     37\u001b[0m         VAE_AttentionBlock(\u001b[38;5;241m512\u001b[39m),\n\u001b[1;32m     38\u001b[0m         VAE_ResidualBlock(\u001b[38;5;241m512\u001b[39m,\u001b[38;5;241m512\u001b[39m),\n\u001b[1;32m     39\u001b[0m         nn\u001b[38;5;241m.\u001b[39mGroupNorm(\u001b[38;5;241m32\u001b[39m, \u001b[38;5;241m512\u001b[39m),\n\u001b[1;32m     40\u001b[0m         nn\u001b[38;5;241m.\u001b[39mSiLU(),\n\u001b[1;32m     41\u001b[0m \n\u001b[1;32m     42\u001b[0m         nn\u001b[38;5;241m.\u001b[39mConv2d(\u001b[38;5;241m512\u001b[39m, \u001b[38;5;241m8\u001b[39m, kernel_size\u001b[38;5;241m=\u001b[39m\u001b[38;5;241m3\u001b[39m, padding\u001b[38;5;241m=\u001b[39m\u001b[38;5;241m1\u001b[39m),\n\u001b[1;32m     43\u001b[0m         nn\u001b[38;5;241m.\u001b[39mConv2d(\u001b[38;5;241m8\u001b[39m, \u001b[38;5;241m8\u001b[39m, kernel_size\u001b[38;5;241m=\u001b[39m\u001b[38;5;241m1\u001b[39m, padding\u001b[38;5;241m=\u001b[39m\u001b[38;5;241m0\u001b[39m)\n\u001b[1;32m     44\u001b[0m     )\n",
      "File \u001b[0;32m~/Documents/cs/Stable_Diffusion/models/vae/decoder.py:8\u001b[0m, in \u001b[0;36mVAE_ResidualBlock.__init__\u001b[0;34m(self, in_channels, out_channels)\u001b[0m\n\u001b[1;32m      7\u001b[0m \u001b[38;5;28;01mdef\u001b[39;00m \u001b[38;5;21m__init__\u001b[39m(\u001b[38;5;28mself\u001b[39m, in_channels, out_channels):\n\u001b[0;32m----> 8\u001b[0m     \u001b[38;5;28;43msuper\u001b[39;49m\u001b[43m(\u001b[49m\u001b[43m)\u001b[49m\u001b[38;5;241;43m.\u001b[39;49m\u001b[43m__init\u001b[49m()\n\u001b[1;32m      9\u001b[0m     \u001b[38;5;28mself\u001b[39m\u001b[38;5;241m.\u001b[39mgroup_norm_1 \u001b[38;5;241m=\u001b[39m nn\u001b[38;5;241m.\u001b[39mGroupNorm(\u001b[38;5;241m32\u001b[39m, in_channels)\n\u001b[1;32m     10\u001b[0m     \u001b[38;5;28mself\u001b[39m\u001b[38;5;241m.\u001b[39mconv1 \u001b[38;5;241m-\u001b[39m nn\u001b[38;5;241m.\u001b[39mConv2d(in_channels, out_channels, kernel_size\u001b[38;5;241m=\u001b[39m\u001b[38;5;241m3\u001b[39m, padding\u001b[38;5;241m=\u001b[39m\u001b[38;5;241m1\u001b[39m)\n",
      "\u001b[0;31mAttributeError\u001b[0m: 'super' object has no attribute '_VAE_ResidualBlock__init'"
     ]
    }
   ],
   "source": [
    "models = model_loader.preload_models_from_weights(model_filepath, DEVICE)"
   ]
  },
  {
   "cell_type": "markdown",
   "metadata": {},
   "source": [
    "This is for Stable Diffusion Text to Image."
   ]
  },
  {
   "cell_type": "code",
   "execution_count": 12,
   "metadata": {},
   "outputs": [],
   "source": [
    "# Text to image\n",
    "prompt = \"A cat jumping up, highly detailed, ultra sharp, cinematic, 8k resolution\"\n",
    "negative_prompt = \"A dog\"\n",
    "cfg = True\n",
    "cfg_scale = 7\n",
    "\n",
    "# Image to image\n",
    "input_image = None\n",
    "img_path = \"\"\n",
    "# input_image = Image.open(img_path)\n",
    "strength = 0.9\n"
   ]
  },
  {
   "cell_type": "code",
   "execution_count": null,
   "metadata": {},
   "outputs": [],
   "source": [
    "sampler = \"ddpm\"\n",
    "num_inference_steps = 50\n",
    "seed = 22\n",
    "\n",
    "output_image = pipeline.generate(\n",
    "    prompt=prompt,\n",
    "    unconditional_prompt=negative_prompt,\n",
    "    input_image=input_image,\n",
    "    strength=strength,\n",
    "    cfg=cfg,\n",
    "    cfg_scale=cfg_scale,\n",
    "    sampler_name=sampler,\n",
    "    n_inference_steps=num_inference_steps,\n",
    "    seed=seed,\n",
    "    models=models,\n",
    "    device=DEVICE,\n",
    "    idle_device=\"cpu\",\n",
    "    tokenizer=tokenizer\n",
    ")\n",
    "\n",
    "Image.fromarray(output_image)"
   ]
  }
 ],
 "metadata": {
  "kernelspec": {
   "display_name": "Python 3",
   "language": "python",
   "name": "python3"
  },
  "language_info": {
   "codemirror_mode": {
    "name": "ipython",
    "version": 3
   },
   "file_extension": ".py",
   "mimetype": "text/x-python",
   "name": "python",
   "nbconvert_exporter": "python",
   "pygments_lexer": "ipython3",
   "version": "3.9.19"
  }
 },
 "nbformat": 4,
 "nbformat_minor": 2
}
